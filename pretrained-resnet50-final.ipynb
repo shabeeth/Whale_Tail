{
 "cells": [
  {
   "cell_type": "markdown",
   "metadata": {
    "_uuid": "da035fe58e548e8b1b7e8e89725b9e6bc745aa7b"
   },
   "source": [
    "# Humpback Whale Identification - CNN with Keras\n",
    "This kernel is based on [Anezka Kolaceke](https://www.kaggle.com/anezka)'s awesome work: [CNN with Keras for Humpback Whale ID](https://www.kaggle.com/anezka/cnn-with-keras-for-humpback-whale-id)"
   ]
  },
  {
   "cell_type": "code",
   "execution_count": 1,
   "metadata": {
    "_uuid": "0d9c73ad23e6c2eae3028255ee00c3254fe66401"
   },
   "outputs": [
    {
     "name": "stderr",
     "output_type": "stream",
     "text": [
      "Using TensorFlow backend.\n"
     ]
    }
   ],
   "source": [
    "import numpy as np \n",
    "import pandas as pd \n",
    "import os\n",
    "import matplotlib.pyplot as plt\n",
    "import matplotlib.image as mplimg\n",
    "from matplotlib.pyplot import imshow\n",
    "\n",
    "from sklearn.preprocessing import LabelEncoder\n",
    "from sklearn.preprocessing import OneHotEncoder\n",
    "\n",
    "from keras import layers\n",
    "from keras.preprocessing import image\n",
    "from keras.applications.imagenet_utils import preprocess_input\n",
    "from keras.layers import Input, Dense, Activation, BatchNormalization, Flatten, Conv2D\n",
    "from keras.layers import AveragePooling2D, MaxPooling2D, Dropout, GlobalAveragePooling2D\n",
    "from keras.models import Model\n",
    "\n",
    "import keras.backend as K\n",
    "from keras.models import Sequential\n",
    "\n",
    "import warnings\n",
    "warnings.simplefilter(\"ignore\", category=DeprecationWarning)"
   ]
  },
  {
   "cell_type": "code",
   "execution_count": 2,
   "metadata": {
    "_uuid": "2cea35de3530cc898be5b85063b84e875401d092"
   },
   "outputs": [
    {
     "data": {
      "text/plain": [
       "['test', 'train.csv', 'train']"
      ]
     },
     "execution_count": 2,
     "metadata": {},
     "output_type": "execute_result"
    }
   ],
   "source": [
    "os.listdir(\"data/\")"
   ]
  },
  {
   "cell_type": "code",
   "execution_count": 3,
   "metadata": {
    "_uuid": "46a8839e13a14eb8d16ea6823de9927ea63d5001"
   },
   "outputs": [
    {
     "data": {
      "text/html": [
       "<div>\n",
       "<style scoped>\n",
       "    .dataframe tbody tr th:only-of-type {\n",
       "        vertical-align: middle;\n",
       "    }\n",
       "\n",
       "    .dataframe tbody tr th {\n",
       "        vertical-align: top;\n",
       "    }\n",
       "\n",
       "    .dataframe thead th {\n",
       "        text-align: right;\n",
       "    }\n",
       "</style>\n",
       "<table border=\"1\" class=\"dataframe\">\n",
       "  <thead>\n",
       "    <tr style=\"text-align: right;\">\n",
       "      <th></th>\n",
       "      <th>Image</th>\n",
       "      <th>Id</th>\n",
       "    </tr>\n",
       "  </thead>\n",
       "  <tbody>\n",
       "    <tr>\n",
       "      <th>0</th>\n",
       "      <td>0000e88ab.jpg</td>\n",
       "      <td>w_f48451c</td>\n",
       "    </tr>\n",
       "    <tr>\n",
       "      <th>1</th>\n",
       "      <td>0001f9222.jpg</td>\n",
       "      <td>w_c3d896a</td>\n",
       "    </tr>\n",
       "    <tr>\n",
       "      <th>2</th>\n",
       "      <td>00029d126.jpg</td>\n",
       "      <td>w_20df2c5</td>\n",
       "    </tr>\n",
       "    <tr>\n",
       "      <th>3</th>\n",
       "      <td>00050a15a.jpg</td>\n",
       "      <td>new_whale</td>\n",
       "    </tr>\n",
       "    <tr>\n",
       "      <th>4</th>\n",
       "      <td>0005c1ef8.jpg</td>\n",
       "      <td>new_whale</td>\n",
       "    </tr>\n",
       "  </tbody>\n",
       "</table>\n",
       "</div>"
      ],
      "text/plain": [
       "           Image         Id\n",
       "0  0000e88ab.jpg  w_f48451c\n",
       "1  0001f9222.jpg  w_c3d896a\n",
       "2  00029d126.jpg  w_20df2c5\n",
       "3  00050a15a.jpg  new_whale\n",
       "4  0005c1ef8.jpg  new_whale"
      ]
     },
     "execution_count": 3,
     "metadata": {},
     "output_type": "execute_result"
    }
   ],
   "source": [
    "train_df = pd.read_csv(\"data/train.csv\")\n",
    "train_df.head()"
   ]
  },
  {
   "cell_type": "code",
   "execution_count": 4,
   "metadata": {},
   "outputs": [
    {
     "data": {
      "text/plain": [
       "new_whale    9664\n",
       "w_23a388d      73\n",
       "w_9b5109b      65\n",
       "w_9c506f6      62\n",
       "w_0369a5c      61\n",
       "Name: Id, dtype: int64"
      ]
     },
     "execution_count": 4,
     "metadata": {},
     "output_type": "execute_result"
    }
   ],
   "source": [
    "# this will show the amount of images in some of the categories\n",
    "train_df.Id.value_counts().head()"
   ]
  },
  {
   "cell_type": "code",
   "execution_count": 5,
   "metadata": {},
   "outputs": [
    {
     "data": {
      "text/plain": [
       "w_23a388d    73\n",
       "w_9b5109b    65\n",
       "w_9c506f6    62\n",
       "w_0369a5c    61\n",
       "w_700ebb4    57\n",
       "Name: Id, dtype: int64"
      ]
     },
     "execution_count": 5,
     "metadata": {},
     "output_type": "execute_result"
    }
   ],
   "source": [
    "# now the new_whale data points will be removed from the dataframe\n",
    "I_dont_want_new_whales = train_df['Id'] != 'new_whale'\n",
    "train_df = train_df[I_dont_want_new_whales]\n",
    "train_df.Id.value_counts().head()"
   ]
  },
  {
   "cell_type": "code",
   "execution_count": 6,
   "metadata": {
    "_uuid": "e8fb782eb346bd4d9f6dfb3b861ef0da5c9f3928"
   },
   "outputs": [],
   "source": [
    "img_size = 45"
   ]
  },
  {
   "cell_type": "code",
   "execution_count": 7,
   "metadata": {
    "_uuid": "f46b24dbba74f22833cac6140e60348b15a8e047"
   },
   "outputs": [],
   "source": [
    "def prepareImages(data, m, dataset):\n",
    "    print(\"Preparing images\")\n",
    "    X_train = np.zeros((m, img_size, img_size, 3))\n",
    "    count = 0\n",
    "    \n",
    "    for fig in data['Image']:\n",
    "        img = image.load_img(\"data/\"+dataset+\"/\"+fig, target_size=(img_size, img_size, 3))\n",
    "        x = image.img_to_array(img)\n",
    "        x = preprocess_input(x)\n",
    "\n",
    "        X_train[count] = x\n",
    "        if (count%500 == 0):\n",
    "            print(\"Processing image: \", count+1, \", \", fig)\n",
    "        count += 1\n",
    "    \n",
    "    return X_train"
   ]
  },
  {
   "cell_type": "code",
   "execution_count": 8,
   "metadata": {
    "_uuid": "6587a101b58af064af0f9c60a1070c6c8f52d45f"
   },
   "outputs": [],
   "source": [
    "def prepare_labels(y):\n",
    "    values = np.array(y)\n",
    "    label_encoder = LabelEncoder()\n",
    "    integer_encoded = label_encoder.fit_transform(values)\n",
    "    # print(integer_encoded)\n",
    "\n",
    "    onehot_encoder = OneHotEncoder(sparse=False)\n",
    "    integer_encoded = integer_encoded.reshape(len(integer_encoded), 1)\n",
    "    onehot_encoded = onehot_encoder.fit_transform(integer_encoded)\n",
    "    # print(onehot_encoded)\n",
    "\n",
    "    y = onehot_encoded\n",
    "    # print(y.shape)\n",
    "    return y, label_encoder"
   ]
  },
  {
   "cell_type": "code",
   "execution_count": 9,
   "metadata": {},
   "outputs": [],
   "source": [
    "# This chunk of code was added to resolve the error \"OSError: image file is truncated\" in the below cell\n",
    "from PIL import ImageFile\n",
    "ImageFile.LOAD_TRUNCATED_IMAGES = True"
   ]
  },
  {
   "cell_type": "code",
   "execution_count": 10,
   "metadata": {
    "_uuid": "4afe4128a0cd6859848c8a80686208082d647c39",
    "scrolled": false
   },
   "outputs": [
    {
     "name": "stdout",
     "output_type": "stream",
     "text": [
      "Preparing images\n",
      "Processing image:  1 ,  0000e88ab.jpg\n",
      "Processing image:  501 ,  0823f9df3.jpg\n",
      "Processing image:  1001 ,  10b694367.jpg\n",
      "Processing image:  1501 ,  195805c52.jpg\n",
      "Processing image:  2001 ,  21e28ae02.jpg\n",
      "Processing image:  2501 ,  2a1146baa.jpg\n",
      "Processing image:  3001 ,  32533a7fb.jpg\n",
      "Processing image:  3501 ,  3a8173905.jpg\n",
      "Processing image:  4001 ,  42f134dea.jpg\n",
      "Processing image:  4501 ,  4aa4de13a.jpg\n",
      "Processing image:  5001 ,  5297b6c40.jpg\n",
      "Processing image:  5501 ,  5b7f0e6e6.jpg\n",
      "Processing image:  6001 ,  6311688b7.jpg\n",
      "Processing image:  6501 ,  6b29760e3.jpg\n",
      "Processing image:  7001 ,  7390cbfab.jpg\n",
      "Processing image:  7501 ,  7b949f512.jpg\n",
      "Processing image:  8001 ,  83336c385.jpg\n",
      "Processing image:  8501 ,  8b369569b.jpg\n",
      "Processing image:  9001 ,  92f450203.jpg\n",
      "Processing image:  9501 ,  9b984102a.jpg\n",
      "Processing image:  10001 ,  a39babc55.jpg\n",
      "Processing image:  10501 ,  ab6f8bddd.jpg\n",
      "Processing image:  11001 ,  b36da6f7c.jpg\n",
      "Processing image:  11501 ,  bb9ffa8b2.jpg\n",
      "Processing image:  12001 ,  c4160ee65.jpg\n",
      "Processing image:  12501 ,  cb7153d51.jpg\n",
      "Processing image:  13001 ,  d3b15e280.jpg\n",
      "Processing image:  13501 ,  dbb2088f4.jpg\n",
      "Processing image:  14001 ,  e3fe27a84.jpg\n",
      "Processing image:  14501 ,  ebde74948.jpg\n",
      "Processing image:  15001 ,  f3f3f8b92.jpg\n",
      "Processing image:  15501 ,  fc54db327.jpg\n"
     ]
    }
   ],
   "source": [
    "X = prepareImages(train_df, train_df.shape[0], \"train\")\n",
    "X /= 255"
   ]
  },
  {
   "cell_type": "code",
   "execution_count": 11,
   "metadata": {
    "_uuid": "675924f8863aef27cf90dc668e0a68cd609dfc1c"
   },
   "outputs": [],
   "source": [
    "y, label_encoder = prepare_labels(train_df['Id'])"
   ]
  },
  {
   "cell_type": "code",
   "execution_count": 12,
   "metadata": {
    "_uuid": "14d243b19023e830b636bea16679e13bc40deae6"
   },
   "outputs": [
    {
     "data": {
      "text/plain": [
       "(15697, 5004)"
      ]
     },
     "execution_count": 12,
     "metadata": {},
     "output_type": "execute_result"
    }
   ],
   "source": [
    "y.shape"
   ]
  },
  {
   "cell_type": "code",
   "execution_count": 13,
   "metadata": {
    "_uuid": "783f6cd7a97774e0667b00e8b552d7f6f1970c91"
   },
   "outputs": [],
   "source": [
    "from keras.applications.resnet50 import ResNet50\n",
    "from keras.metrics import categorical_accuracy, top_k_categorical_accuracy, categorical_crossentropy\n",
    "from keras.optimizers import Adam\n",
    "\n",
    "def top_5_accuracy(y_true, y_pred):\n",
    "    return top_k_categorical_accuracy(y_true, y_pred, k=5)"
   ]
  },
  {
   "cell_type": "code",
   "execution_count": 14,
   "metadata": {
    "_uuid": "a452a6545fabb5269fc9b36cdd021c78725c8e13"
   },
   "outputs": [],
   "source": [
    "def pre_model():\n",
    "    base_model = ResNet50(input_shape=(img_size, img_size, 3), weights=None, classes=5004)\n",
    "    base_model.compile(optimizer=Adam(lr=0.002), loss='categorical_crossentropy', metrics=[categorical_crossentropy, categorical_accuracy, top_5_accuracy])\n",
    "    return base_model"
   ]
  },
  {
   "cell_type": "code",
   "execution_count": 15,
   "metadata": {
    "_uuid": "b70b9e5e518022880292d7cb2470d92a7e397ab7",
    "scrolled": true
   },
   "outputs": [
    {
     "name": "stdout",
     "output_type": "stream",
     "text": [
      "WARNING:tensorflow:From /usr/local/lib/python3.5/dist-packages/tensorflow/python/framework/op_def_library.py:263: colocate_with (from tensorflow.python.framework.ops) is deprecated and will be removed in a future version.\n",
      "Instructions for updating:\n",
      "Colocations handled automatically by placer.\n",
      "__________________________________________________________________________________________________\n",
      "Layer (type)                    Output Shape         Param #     Connected to                     \n",
      "==================================================================================================\n",
      "input_1 (InputLayer)            (None, 45, 45, 3)    0                                            \n",
      "__________________________________________________________________________________________________\n",
      "conv1_pad (ZeroPadding2D)       (None, 51, 51, 3)    0           input_1[0][0]                    \n",
      "__________________________________________________________________________________________________\n",
      "conv1 (Conv2D)                  (None, 23, 23, 64)   9472        conv1_pad[0][0]                  \n",
      "__________________________________________________________________________________________________\n",
      "bn_conv1 (BatchNormalization)   (None, 23, 23, 64)   256         conv1[0][0]                      \n",
      "__________________________________________________________________________________________________\n",
      "activation_1 (Activation)       (None, 23, 23, 64)   0           bn_conv1[0][0]                   \n",
      "__________________________________________________________________________________________________\n",
      "pool1_pad (ZeroPadding2D)       (None, 25, 25, 64)   0           activation_1[0][0]               \n",
      "__________________________________________________________________________________________________\n",
      "max_pooling2d_1 (MaxPooling2D)  (None, 12, 12, 64)   0           pool1_pad[0][0]                  \n",
      "__________________________________________________________________________________________________\n",
      "res2a_branch2a (Conv2D)         (None, 12, 12, 64)   4160        max_pooling2d_1[0][0]            \n",
      "__________________________________________________________________________________________________\n",
      "bn2a_branch2a (BatchNormalizati (None, 12, 12, 64)   256         res2a_branch2a[0][0]             \n",
      "__________________________________________________________________________________________________\n",
      "activation_2 (Activation)       (None, 12, 12, 64)   0           bn2a_branch2a[0][0]              \n",
      "__________________________________________________________________________________________________\n",
      "res2a_branch2b (Conv2D)         (None, 12, 12, 64)   36928       activation_2[0][0]               \n",
      "__________________________________________________________________________________________________\n",
      "bn2a_branch2b (BatchNormalizati (None, 12, 12, 64)   256         res2a_branch2b[0][0]             \n",
      "__________________________________________________________________________________________________\n",
      "activation_3 (Activation)       (None, 12, 12, 64)   0           bn2a_branch2b[0][0]              \n",
      "__________________________________________________________________________________________________\n",
      "res2a_branch2c (Conv2D)         (None, 12, 12, 256)  16640       activation_3[0][0]               \n",
      "__________________________________________________________________________________________________\n",
      "res2a_branch1 (Conv2D)          (None, 12, 12, 256)  16640       max_pooling2d_1[0][0]            \n",
      "__________________________________________________________________________________________________\n",
      "bn2a_branch2c (BatchNormalizati (None, 12, 12, 256)  1024        res2a_branch2c[0][0]             \n",
      "__________________________________________________________________________________________________\n",
      "bn2a_branch1 (BatchNormalizatio (None, 12, 12, 256)  1024        res2a_branch1[0][0]              \n",
      "__________________________________________________________________________________________________\n",
      "add_1 (Add)                     (None, 12, 12, 256)  0           bn2a_branch2c[0][0]              \n",
      "                                                                 bn2a_branch1[0][0]               \n",
      "__________________________________________________________________________________________________\n",
      "activation_4 (Activation)       (None, 12, 12, 256)  0           add_1[0][0]                      \n",
      "__________________________________________________________________________________________________\n",
      "res2b_branch2a (Conv2D)         (None, 12, 12, 64)   16448       activation_4[0][0]               \n",
      "__________________________________________________________________________________________________\n",
      "bn2b_branch2a (BatchNormalizati (None, 12, 12, 64)   256         res2b_branch2a[0][0]             \n",
      "__________________________________________________________________________________________________\n",
      "activation_5 (Activation)       (None, 12, 12, 64)   0           bn2b_branch2a[0][0]              \n",
      "__________________________________________________________________________________________________\n",
      "res2b_branch2b (Conv2D)         (None, 12, 12, 64)   36928       activation_5[0][0]               \n",
      "__________________________________________________________________________________________________\n",
      "bn2b_branch2b (BatchNormalizati (None, 12, 12, 64)   256         res2b_branch2b[0][0]             \n",
      "__________________________________________________________________________________________________\n",
      "activation_6 (Activation)       (None, 12, 12, 64)   0           bn2b_branch2b[0][0]              \n",
      "__________________________________________________________________________________________________\n",
      "res2b_branch2c (Conv2D)         (None, 12, 12, 256)  16640       activation_6[0][0]               \n",
      "__________________________________________________________________________________________________\n",
      "bn2b_branch2c (BatchNormalizati (None, 12, 12, 256)  1024        res2b_branch2c[0][0]             \n",
      "__________________________________________________________________________________________________\n",
      "add_2 (Add)                     (None, 12, 12, 256)  0           bn2b_branch2c[0][0]              \n",
      "                                                                 activation_4[0][0]               \n",
      "__________________________________________________________________________________________________\n",
      "activation_7 (Activation)       (None, 12, 12, 256)  0           add_2[0][0]                      \n",
      "__________________________________________________________________________________________________\n",
      "res2c_branch2a (Conv2D)         (None, 12, 12, 64)   16448       activation_7[0][0]               \n",
      "__________________________________________________________________________________________________\n",
      "bn2c_branch2a (BatchNormalizati (None, 12, 12, 64)   256         res2c_branch2a[0][0]             \n",
      "__________________________________________________________________________________________________\n",
      "activation_8 (Activation)       (None, 12, 12, 64)   0           bn2c_branch2a[0][0]              \n",
      "__________________________________________________________________________________________________\n",
      "res2c_branch2b (Conv2D)         (None, 12, 12, 64)   36928       activation_8[0][0]               \n",
      "__________________________________________________________________________________________________\n",
      "bn2c_branch2b (BatchNormalizati (None, 12, 12, 64)   256         res2c_branch2b[0][0]             \n",
      "__________________________________________________________________________________________________\n",
      "activation_9 (Activation)       (None, 12, 12, 64)   0           bn2c_branch2b[0][0]              \n",
      "__________________________________________________________________________________________________\n",
      "res2c_branch2c (Conv2D)         (None, 12, 12, 256)  16640       activation_9[0][0]               \n",
      "__________________________________________________________________________________________________\n",
      "bn2c_branch2c (BatchNormalizati (None, 12, 12, 256)  1024        res2c_branch2c[0][0]             \n",
      "__________________________________________________________________________________________________\n",
      "add_3 (Add)                     (None, 12, 12, 256)  0           bn2c_branch2c[0][0]              \n",
      "                                                                 activation_7[0][0]               \n",
      "__________________________________________________________________________________________________\n",
      "activation_10 (Activation)      (None, 12, 12, 256)  0           add_3[0][0]                      \n",
      "__________________________________________________________________________________________________\n",
      "res3a_branch2a (Conv2D)         (None, 6, 6, 128)    32896       activation_10[0][0]              \n",
      "__________________________________________________________________________________________________\n",
      "bn3a_branch2a (BatchNormalizati (None, 6, 6, 128)    512         res3a_branch2a[0][0]             \n",
      "__________________________________________________________________________________________________\n",
      "activation_11 (Activation)      (None, 6, 6, 128)    0           bn3a_branch2a[0][0]              \n",
      "__________________________________________________________________________________________________\n",
      "res3a_branch2b (Conv2D)         (None, 6, 6, 128)    147584      activation_11[0][0]              \n",
      "__________________________________________________________________________________________________\n",
      "bn3a_branch2b (BatchNormalizati (None, 6, 6, 128)    512         res3a_branch2b[0][0]             \n",
      "__________________________________________________________________________________________________\n",
      "activation_12 (Activation)      (None, 6, 6, 128)    0           bn3a_branch2b[0][0]              \n",
      "__________________________________________________________________________________________________\n",
      "res3a_branch2c (Conv2D)         (None, 6, 6, 512)    66048       activation_12[0][0]              \n",
      "__________________________________________________________________________________________________\n",
      "res3a_branch1 (Conv2D)          (None, 6, 6, 512)    131584      activation_10[0][0]              \n",
      "__________________________________________________________________________________________________\n",
      "bn3a_branch2c (BatchNormalizati (None, 6, 6, 512)    2048        res3a_branch2c[0][0]             \n",
      "__________________________________________________________________________________________________\n",
      "bn3a_branch1 (BatchNormalizatio (None, 6, 6, 512)    2048        res3a_branch1[0][0]              \n",
      "__________________________________________________________________________________________________\n",
      "add_4 (Add)                     (None, 6, 6, 512)    0           bn3a_branch2c[0][0]              \n",
      "                                                                 bn3a_branch1[0][0]               \n",
      "__________________________________________________________________________________________________\n",
      "activation_13 (Activation)      (None, 6, 6, 512)    0           add_4[0][0]                      \n",
      "__________________________________________________________________________________________________\n",
      "res3b_branch2a (Conv2D)         (None, 6, 6, 128)    65664       activation_13[0][0]              \n",
      "__________________________________________________________________________________________________\n",
      "bn3b_branch2a (BatchNormalizati (None, 6, 6, 128)    512         res3b_branch2a[0][0]             \n",
      "__________________________________________________________________________________________________\n",
      "activation_14 (Activation)      (None, 6, 6, 128)    0           bn3b_branch2a[0][0]              \n",
      "__________________________________________________________________________________________________\n",
      "res3b_branch2b (Conv2D)         (None, 6, 6, 128)    147584      activation_14[0][0]              \n",
      "__________________________________________________________________________________________________\n",
      "bn3b_branch2b (BatchNormalizati (None, 6, 6, 128)    512         res3b_branch2b[0][0]             \n",
      "__________________________________________________________________________________________________\n",
      "activation_15 (Activation)      (None, 6, 6, 128)    0           bn3b_branch2b[0][0]              \n",
      "__________________________________________________________________________________________________\n",
      "res3b_branch2c (Conv2D)         (None, 6, 6, 512)    66048       activation_15[0][0]              \n",
      "__________________________________________________________________________________________________\n",
      "bn3b_branch2c (BatchNormalizati (None, 6, 6, 512)    2048        res3b_branch2c[0][0]             \n",
      "__________________________________________________________________________________________________\n",
      "add_5 (Add)                     (None, 6, 6, 512)    0           bn3b_branch2c[0][0]              \n",
      "                                                                 activation_13[0][0]              \n",
      "__________________________________________________________________________________________________\n",
      "activation_16 (Activation)      (None, 6, 6, 512)    0           add_5[0][0]                      \n",
      "__________________________________________________________________________________________________\n",
      "res3c_branch2a (Conv2D)         (None, 6, 6, 128)    65664       activation_16[0][0]              \n",
      "__________________________________________________________________________________________________\n",
      "bn3c_branch2a (BatchNormalizati (None, 6, 6, 128)    512         res3c_branch2a[0][0]             \n",
      "__________________________________________________________________________________________________\n",
      "activation_17 (Activation)      (None, 6, 6, 128)    0           bn3c_branch2a[0][0]              \n",
      "__________________________________________________________________________________________________\n",
      "res3c_branch2b (Conv2D)         (None, 6, 6, 128)    147584      activation_17[0][0]              \n",
      "__________________________________________________________________________________________________\n",
      "bn3c_branch2b (BatchNormalizati (None, 6, 6, 128)    512         res3c_branch2b[0][0]             \n",
      "__________________________________________________________________________________________________\n",
      "activation_18 (Activation)      (None, 6, 6, 128)    0           bn3c_branch2b[0][0]              \n",
      "__________________________________________________________________________________________________\n",
      "res3c_branch2c (Conv2D)         (None, 6, 6, 512)    66048       activation_18[0][0]              \n",
      "__________________________________________________________________________________________________\n",
      "bn3c_branch2c (BatchNormalizati (None, 6, 6, 512)    2048        res3c_branch2c[0][0]             \n",
      "__________________________________________________________________________________________________\n",
      "add_6 (Add)                     (None, 6, 6, 512)    0           bn3c_branch2c[0][0]              \n",
      "                                                                 activation_16[0][0]              \n",
      "__________________________________________________________________________________________________\n",
      "activation_19 (Activation)      (None, 6, 6, 512)    0           add_6[0][0]                      \n",
      "__________________________________________________________________________________________________\n",
      "res3d_branch2a (Conv2D)         (None, 6, 6, 128)    65664       activation_19[0][0]              \n",
      "__________________________________________________________________________________________________\n",
      "bn3d_branch2a (BatchNormalizati (None, 6, 6, 128)    512         res3d_branch2a[0][0]             \n",
      "__________________________________________________________________________________________________\n",
      "activation_20 (Activation)      (None, 6, 6, 128)    0           bn3d_branch2a[0][0]              \n",
      "__________________________________________________________________________________________________\n",
      "res3d_branch2b (Conv2D)         (None, 6, 6, 128)    147584      activation_20[0][0]              \n",
      "__________________________________________________________________________________________________\n",
      "bn3d_branch2b (BatchNormalizati (None, 6, 6, 128)    512         res3d_branch2b[0][0]             \n",
      "__________________________________________________________________________________________________\n",
      "activation_21 (Activation)      (None, 6, 6, 128)    0           bn3d_branch2b[0][0]              \n",
      "__________________________________________________________________________________________________\n",
      "res3d_branch2c (Conv2D)         (None, 6, 6, 512)    66048       activation_21[0][0]              \n",
      "__________________________________________________________________________________________________\n",
      "bn3d_branch2c (BatchNormalizati (None, 6, 6, 512)    2048        res3d_branch2c[0][0]             \n",
      "__________________________________________________________________________________________________\n",
      "add_7 (Add)                     (None, 6, 6, 512)    0           bn3d_branch2c[0][0]              \n",
      "                                                                 activation_19[0][0]              \n",
      "__________________________________________________________________________________________________\n",
      "activation_22 (Activation)      (None, 6, 6, 512)    0           add_7[0][0]                      \n",
      "__________________________________________________________________________________________________\n",
      "res4a_branch2a (Conv2D)         (None, 3, 3, 256)    131328      activation_22[0][0]              \n",
      "__________________________________________________________________________________________________\n",
      "bn4a_branch2a (BatchNormalizati (None, 3, 3, 256)    1024        res4a_branch2a[0][0]             \n",
      "__________________________________________________________________________________________________\n",
      "activation_23 (Activation)      (None, 3, 3, 256)    0           bn4a_branch2a[0][0]              \n",
      "__________________________________________________________________________________________________\n",
      "res4a_branch2b (Conv2D)         (None, 3, 3, 256)    590080      activation_23[0][0]              \n",
      "__________________________________________________________________________________________________\n",
      "bn4a_branch2b (BatchNormalizati (None, 3, 3, 256)    1024        res4a_branch2b[0][0]             \n",
      "__________________________________________________________________________________________________\n",
      "activation_24 (Activation)      (None, 3, 3, 256)    0           bn4a_branch2b[0][0]              \n",
      "__________________________________________________________________________________________________\n",
      "res4a_branch2c (Conv2D)         (None, 3, 3, 1024)   263168      activation_24[0][0]              \n",
      "__________________________________________________________________________________________________\n",
      "res4a_branch1 (Conv2D)          (None, 3, 3, 1024)   525312      activation_22[0][0]              \n",
      "__________________________________________________________________________________________________\n",
      "bn4a_branch2c (BatchNormalizati (None, 3, 3, 1024)   4096        res4a_branch2c[0][0]             \n",
      "__________________________________________________________________________________________________\n",
      "bn4a_branch1 (BatchNormalizatio (None, 3, 3, 1024)   4096        res4a_branch1[0][0]              \n",
      "__________________________________________________________________________________________________\n",
      "add_8 (Add)                     (None, 3, 3, 1024)   0           bn4a_branch2c[0][0]              \n",
      "                                                                 bn4a_branch1[0][0]               \n",
      "__________________________________________________________________________________________________\n",
      "activation_25 (Activation)      (None, 3, 3, 1024)   0           add_8[0][0]                      \n",
      "__________________________________________________________________________________________________\n",
      "res4b_branch2a (Conv2D)         (None, 3, 3, 256)    262400      activation_25[0][0]              \n",
      "__________________________________________________________________________________________________\n",
      "bn4b_branch2a (BatchNormalizati (None, 3, 3, 256)    1024        res4b_branch2a[0][0]             \n",
      "__________________________________________________________________________________________________\n",
      "activation_26 (Activation)      (None, 3, 3, 256)    0           bn4b_branch2a[0][0]              \n",
      "__________________________________________________________________________________________________\n",
      "res4b_branch2b (Conv2D)         (None, 3, 3, 256)    590080      activation_26[0][0]              \n",
      "__________________________________________________________________________________________________\n",
      "bn4b_branch2b (BatchNormalizati (None, 3, 3, 256)    1024        res4b_branch2b[0][0]             \n",
      "__________________________________________________________________________________________________\n",
      "activation_27 (Activation)      (None, 3, 3, 256)    0           bn4b_branch2b[0][0]              \n",
      "__________________________________________________________________________________________________\n",
      "res4b_branch2c (Conv2D)         (None, 3, 3, 1024)   263168      activation_27[0][0]              \n",
      "__________________________________________________________________________________________________\n",
      "bn4b_branch2c (BatchNormalizati (None, 3, 3, 1024)   4096        res4b_branch2c[0][0]             \n",
      "__________________________________________________________________________________________________\n",
      "add_9 (Add)                     (None, 3, 3, 1024)   0           bn4b_branch2c[0][0]              \n",
      "                                                                 activation_25[0][0]              \n",
      "__________________________________________________________________________________________________\n",
      "activation_28 (Activation)      (None, 3, 3, 1024)   0           add_9[0][0]                      \n",
      "__________________________________________________________________________________________________\n",
      "res4c_branch2a (Conv2D)         (None, 3, 3, 256)    262400      activation_28[0][0]              \n",
      "__________________________________________________________________________________________________\n",
      "bn4c_branch2a (BatchNormalizati (None, 3, 3, 256)    1024        res4c_branch2a[0][0]             \n",
      "__________________________________________________________________________________________________\n",
      "activation_29 (Activation)      (None, 3, 3, 256)    0           bn4c_branch2a[0][0]              \n",
      "__________________________________________________________________________________________________\n",
      "res4c_branch2b (Conv2D)         (None, 3, 3, 256)    590080      activation_29[0][0]              \n",
      "__________________________________________________________________________________________________\n",
      "bn4c_branch2b (BatchNormalizati (None, 3, 3, 256)    1024        res4c_branch2b[0][0]             \n",
      "__________________________________________________________________________________________________\n",
      "activation_30 (Activation)      (None, 3, 3, 256)    0           bn4c_branch2b[0][0]              \n",
      "__________________________________________________________________________________________________\n",
      "res4c_branch2c (Conv2D)         (None, 3, 3, 1024)   263168      activation_30[0][0]              \n",
      "__________________________________________________________________________________________________\n",
      "bn4c_branch2c (BatchNormalizati (None, 3, 3, 1024)   4096        res4c_branch2c[0][0]             \n",
      "__________________________________________________________________________________________________\n",
      "add_10 (Add)                    (None, 3, 3, 1024)   0           bn4c_branch2c[0][0]              \n",
      "                                                                 activation_28[0][0]              \n",
      "__________________________________________________________________________________________________\n",
      "activation_31 (Activation)      (None, 3, 3, 1024)   0           add_10[0][0]                     \n",
      "__________________________________________________________________________________________________\n",
      "res4d_branch2a (Conv2D)         (None, 3, 3, 256)    262400      activation_31[0][0]              \n",
      "__________________________________________________________________________________________________\n",
      "bn4d_branch2a (BatchNormalizati (None, 3, 3, 256)    1024        res4d_branch2a[0][0]             \n",
      "__________________________________________________________________________________________________\n",
      "activation_32 (Activation)      (None, 3, 3, 256)    0           bn4d_branch2a[0][0]              \n",
      "__________________________________________________________________________________________________\n",
      "res4d_branch2b (Conv2D)         (None, 3, 3, 256)    590080      activation_32[0][0]              \n",
      "__________________________________________________________________________________________________\n",
      "bn4d_branch2b (BatchNormalizati (None, 3, 3, 256)    1024        res4d_branch2b[0][0]             \n",
      "__________________________________________________________________________________________________\n",
      "activation_33 (Activation)      (None, 3, 3, 256)    0           bn4d_branch2b[0][0]              \n",
      "__________________________________________________________________________________________________\n",
      "res4d_branch2c (Conv2D)         (None, 3, 3, 1024)   263168      activation_33[0][0]              \n",
      "__________________________________________________________________________________________________\n",
      "bn4d_branch2c (BatchNormalizati (None, 3, 3, 1024)   4096        res4d_branch2c[0][0]             \n",
      "__________________________________________________________________________________________________\n",
      "add_11 (Add)                    (None, 3, 3, 1024)   0           bn4d_branch2c[0][0]              \n",
      "                                                                 activation_31[0][0]              \n",
      "__________________________________________________________________________________________________\n",
      "activation_34 (Activation)      (None, 3, 3, 1024)   0           add_11[0][0]                     \n",
      "__________________________________________________________________________________________________\n",
      "res4e_branch2a (Conv2D)         (None, 3, 3, 256)    262400      activation_34[0][0]              \n",
      "__________________________________________________________________________________________________\n",
      "bn4e_branch2a (BatchNormalizati (None, 3, 3, 256)    1024        res4e_branch2a[0][0]             \n",
      "__________________________________________________________________________________________________\n",
      "activation_35 (Activation)      (None, 3, 3, 256)    0           bn4e_branch2a[0][0]              \n",
      "__________________________________________________________________________________________________\n",
      "res4e_branch2b (Conv2D)         (None, 3, 3, 256)    590080      activation_35[0][0]              \n",
      "__________________________________________________________________________________________________\n",
      "bn4e_branch2b (BatchNormalizati (None, 3, 3, 256)    1024        res4e_branch2b[0][0]             \n",
      "__________________________________________________________________________________________________\n",
      "activation_36 (Activation)      (None, 3, 3, 256)    0           bn4e_branch2b[0][0]              \n",
      "__________________________________________________________________________________________________\n",
      "res4e_branch2c (Conv2D)         (None, 3, 3, 1024)   263168      activation_36[0][0]              \n",
      "__________________________________________________________________________________________________\n",
      "bn4e_branch2c (BatchNormalizati (None, 3, 3, 1024)   4096        res4e_branch2c[0][0]             \n",
      "__________________________________________________________________________________________________\n",
      "add_12 (Add)                    (None, 3, 3, 1024)   0           bn4e_branch2c[0][0]              \n",
      "                                                                 activation_34[0][0]              \n",
      "__________________________________________________________________________________________________\n",
      "activation_37 (Activation)      (None, 3, 3, 1024)   0           add_12[0][0]                     \n",
      "__________________________________________________________________________________________________\n",
      "res4f_branch2a (Conv2D)         (None, 3, 3, 256)    262400      activation_37[0][0]              \n",
      "__________________________________________________________________________________________________\n",
      "bn4f_branch2a (BatchNormalizati (None, 3, 3, 256)    1024        res4f_branch2a[0][0]             \n",
      "__________________________________________________________________________________________________\n",
      "activation_38 (Activation)      (None, 3, 3, 256)    0           bn4f_branch2a[0][0]              \n",
      "__________________________________________________________________________________________________\n",
      "res4f_branch2b (Conv2D)         (None, 3, 3, 256)    590080      activation_38[0][0]              \n",
      "__________________________________________________________________________________________________\n",
      "bn4f_branch2b (BatchNormalizati (None, 3, 3, 256)    1024        res4f_branch2b[0][0]             \n",
      "__________________________________________________________________________________________________\n",
      "activation_39 (Activation)      (None, 3, 3, 256)    0           bn4f_branch2b[0][0]              \n",
      "__________________________________________________________________________________________________\n",
      "res4f_branch2c (Conv2D)         (None, 3, 3, 1024)   263168      activation_39[0][0]              \n",
      "__________________________________________________________________________________________________\n",
      "bn4f_branch2c (BatchNormalizati (None, 3, 3, 1024)   4096        res4f_branch2c[0][0]             \n",
      "__________________________________________________________________________________________________\n",
      "add_13 (Add)                    (None, 3, 3, 1024)   0           bn4f_branch2c[0][0]              \n",
      "                                                                 activation_37[0][0]              \n",
      "__________________________________________________________________________________________________\n",
      "activation_40 (Activation)      (None, 3, 3, 1024)   0           add_13[0][0]                     \n",
      "__________________________________________________________________________________________________\n",
      "res5a_branch2a (Conv2D)         (None, 2, 2, 512)    524800      activation_40[0][0]              \n",
      "__________________________________________________________________________________________________\n",
      "bn5a_branch2a (BatchNormalizati (None, 2, 2, 512)    2048        res5a_branch2a[0][0]             \n",
      "__________________________________________________________________________________________________\n",
      "activation_41 (Activation)      (None, 2, 2, 512)    0           bn5a_branch2a[0][0]              \n",
      "__________________________________________________________________________________________________\n",
      "res5a_branch2b (Conv2D)         (None, 2, 2, 512)    2359808     activation_41[0][0]              \n",
      "__________________________________________________________________________________________________\n",
      "bn5a_branch2b (BatchNormalizati (None, 2, 2, 512)    2048        res5a_branch2b[0][0]             \n",
      "__________________________________________________________________________________________________\n",
      "activation_42 (Activation)      (None, 2, 2, 512)    0           bn5a_branch2b[0][0]              \n",
      "__________________________________________________________________________________________________\n",
      "res5a_branch2c (Conv2D)         (None, 2, 2, 2048)   1050624     activation_42[0][0]              \n",
      "__________________________________________________________________________________________________\n",
      "res5a_branch1 (Conv2D)          (None, 2, 2, 2048)   2099200     activation_40[0][0]              \n",
      "__________________________________________________________________________________________________\n",
      "bn5a_branch2c (BatchNormalizati (None, 2, 2, 2048)   8192        res5a_branch2c[0][0]             \n",
      "__________________________________________________________________________________________________\n",
      "bn5a_branch1 (BatchNormalizatio (None, 2, 2, 2048)   8192        res5a_branch1[0][0]              \n",
      "__________________________________________________________________________________________________\n",
      "add_14 (Add)                    (None, 2, 2, 2048)   0           bn5a_branch2c[0][0]              \n",
      "                                                                 bn5a_branch1[0][0]               \n",
      "__________________________________________________________________________________________________\n",
      "activation_43 (Activation)      (None, 2, 2, 2048)   0           add_14[0][0]                     \n",
      "__________________________________________________________________________________________________\n",
      "res5b_branch2a (Conv2D)         (None, 2, 2, 512)    1049088     activation_43[0][0]              \n",
      "__________________________________________________________________________________________________\n",
      "bn5b_branch2a (BatchNormalizati (None, 2, 2, 512)    2048        res5b_branch2a[0][0]             \n",
      "__________________________________________________________________________________________________\n",
      "activation_44 (Activation)      (None, 2, 2, 512)    0           bn5b_branch2a[0][0]              \n",
      "__________________________________________________________________________________________________\n",
      "res5b_branch2b (Conv2D)         (None, 2, 2, 512)    2359808     activation_44[0][0]              \n",
      "__________________________________________________________________________________________________\n",
      "bn5b_branch2b (BatchNormalizati (None, 2, 2, 512)    2048        res5b_branch2b[0][0]             \n",
      "__________________________________________________________________________________________________\n",
      "activation_45 (Activation)      (None, 2, 2, 512)    0           bn5b_branch2b[0][0]              \n",
      "__________________________________________________________________________________________________\n",
      "res5b_branch2c (Conv2D)         (None, 2, 2, 2048)   1050624     activation_45[0][0]              \n",
      "__________________________________________________________________________________________________\n",
      "bn5b_branch2c (BatchNormalizati (None, 2, 2, 2048)   8192        res5b_branch2c[0][0]             \n",
      "__________________________________________________________________________________________________\n",
      "add_15 (Add)                    (None, 2, 2, 2048)   0           bn5b_branch2c[0][0]              \n",
      "                                                                 activation_43[0][0]              \n",
      "__________________________________________________________________________________________________\n",
      "activation_46 (Activation)      (None, 2, 2, 2048)   0           add_15[0][0]                     \n",
      "__________________________________________________________________________________________________\n",
      "res5c_branch2a (Conv2D)         (None, 2, 2, 512)    1049088     activation_46[0][0]              \n",
      "__________________________________________________________________________________________________\n",
      "bn5c_branch2a (BatchNormalizati (None, 2, 2, 512)    2048        res5c_branch2a[0][0]             \n",
      "__________________________________________________________________________________________________\n",
      "activation_47 (Activation)      (None, 2, 2, 512)    0           bn5c_branch2a[0][0]              \n",
      "__________________________________________________________________________________________________\n",
      "res5c_branch2b (Conv2D)         (None, 2, 2, 512)    2359808     activation_47[0][0]              \n",
      "__________________________________________________________________________________________________\n",
      "bn5c_branch2b (BatchNormalizati (None, 2, 2, 512)    2048        res5c_branch2b[0][0]             \n",
      "__________________________________________________________________________________________________\n",
      "activation_48 (Activation)      (None, 2, 2, 512)    0           bn5c_branch2b[0][0]              \n",
      "__________________________________________________________________________________________________\n",
      "res5c_branch2c (Conv2D)         (None, 2, 2, 2048)   1050624     activation_48[0][0]              \n",
      "__________________________________________________________________________________________________\n",
      "bn5c_branch2c (BatchNormalizati (None, 2, 2, 2048)   8192        res5c_branch2c[0][0]             \n",
      "__________________________________________________________________________________________________\n",
      "add_16 (Add)                    (None, 2, 2, 2048)   0           bn5c_branch2c[0][0]              \n",
      "                                                                 activation_46[0][0]              \n",
      "__________________________________________________________________________________________________\n",
      "activation_49 (Activation)      (None, 2, 2, 2048)   0           add_16[0][0]                     \n",
      "__________________________________________________________________________________________________\n",
      "avg_pool (GlobalAveragePooling2 (None, 2048)         0           activation_49[0][0]              \n",
      "__________________________________________________________________________________________________\n",
      "fc1000 (Dense)                  (None, 5004)         10253196    avg_pool[0][0]                   \n",
      "==================================================================================================\n",
      "Total params: 33,840,908\n",
      "Trainable params: 33,787,788\n",
      "Non-trainable params: 53,120\n",
      "__________________________________________________________________________________________________\n"
     ]
    }
   ],
   "source": [
    "model = pre_model()\n",
    "model.summary()"
   ]
  },
  {
   "cell_type": "code",
   "execution_count": 16,
   "metadata": {
    "_uuid": "efe1b3ed70ff7a75ad44434e32e8e73633a401ff"
   },
   "outputs": [],
   "source": [
    "from keras.callbacks import EarlyStopping, ReduceLROnPlateau"
   ]
  },
  {
   "cell_type": "code",
   "execution_count": 17,
   "metadata": {
    "_uuid": "19739924ebb7118b71e0e074bb8150abddc9edb8"
   },
   "outputs": [],
   "source": [
    "early_stopping = EarlyStopping(monitor='val_loss', mode='min', restore_best_weights=False)\n",
    "reduce_lr = ReduceLROnPlateau(monitor='val_loss', factor=0.1, patience=3)\n",
    "\n",
    "callback = [reduce_lr]"
   ]
  },
  {
   "cell_type": "code",
   "execution_count": 18,
   "metadata": {
    "_uuid": "169f45e150c3a584e0f655a8eda523e0675da63a",
    "scrolled": false
   },
   "outputs": [
    {
     "name": "stdout",
     "output_type": "stream",
     "text": [
      "WARNING:tensorflow:From /usr/local/lib/python3.5/dist-packages/tensorflow/python/ops/math_ops.py:3066: to_int32 (from tensorflow.python.ops.math_ops) is deprecated and will be removed in a future version.\n",
      "Instructions for updating:\n",
      "Use tf.cast instead.\n",
      "Train on 14127 samples, validate on 1570 samples\n",
      "Epoch 1/50\n",
      "14127/14127 [==============================] - 97s 7ms/step - loss: 8.6013 - categorical_crossentropy: 8.6013 - categorical_accuracy: 0.0035 - top_5_accuracy: 0.0382 - val_loss: 15.7436 - val_categorical_crossentropy: 15.7436 - val_categorical_accuracy: 0.0032 - val_top_5_accuracy: 0.9522\n",
      "Epoch 2/50\n",
      "14127/14127 [==============================] - 78s 6ms/step - loss: 8.2008 - categorical_crossentropy: 8.2008 - categorical_accuracy: 0.0067 - top_5_accuracy: 0.0447 - val_loss: 9.1284 - val_categorical_crossentropy: 9.1284 - val_categorical_accuracy: 0.0019 - val_top_5_accuracy: 0.1019\n",
      "Epoch 3/50\n",
      "14127/14127 [==============================] - 78s 6ms/step - loss: 7.9604 - categorical_crossentropy: 7.9604 - categorical_accuracy: 0.0083 - top_5_accuracy: 0.0502 - val_loss: 8.4055 - val_categorical_crossentropy: 8.4055 - val_categorical_accuracy: 0.0108 - val_top_5_accuracy: 0.0344\n",
      "Epoch 4/50\n",
      "14127/14127 [==============================] - 78s 6ms/step - loss: 7.7865 - categorical_crossentropy: 7.7865 - categorical_accuracy: 0.0089 - top_5_accuracy: 0.0514 - val_loss: 8.7385 - val_categorical_crossentropy: 8.7385 - val_categorical_accuracy: 0.0115 - val_top_5_accuracy: 0.0573\n",
      "Epoch 5/50\n",
      "14127/14127 [==============================] - 78s 6ms/step - loss: 7.7394 - categorical_crossentropy: 7.7394 - categorical_accuracy: 0.0084 - top_5_accuracy: 0.0531 - val_loss: 8.9660 - val_categorical_crossentropy: 8.9660 - val_categorical_accuracy: 0.0057 - val_top_5_accuracy: 0.0516\n",
      "Epoch 6/50\n",
      "14127/14127 [==============================] - 78s 6ms/step - loss: 7.5803 - categorical_crossentropy: 7.5803 - categorical_accuracy: 0.0091 - top_5_accuracy: 0.0556 - val_loss: 9.0137 - val_categorical_crossentropy: 9.0137 - val_categorical_accuracy: 0.0089 - val_top_5_accuracy: 0.0637\n",
      "Epoch 7/50\n",
      "14127/14127 [==============================] - 78s 6ms/step - loss: 7.3855 - categorical_crossentropy: 7.3855 - categorical_accuracy: 0.0118 - top_5_accuracy: 0.0583 - val_loss: 8.9201 - val_categorical_crossentropy: 8.9201 - val_categorical_accuracy: 0.0115 - val_top_5_accuracy: 0.0503\n",
      "Epoch 8/50\n",
      "14127/14127 [==============================] - 78s 6ms/step - loss: 7.3427 - categorical_crossentropy: 7.3427 - categorical_accuracy: 0.0120 - top_5_accuracy: 0.0597 - val_loss: 8.8292 - val_categorical_crossentropy: 8.8292 - val_categorical_accuracy: 0.0096 - val_top_5_accuracy: 0.0439\n",
      "Epoch 9/50\n",
      "14127/14127 [==============================] - 78s 6ms/step - loss: 7.3151 - categorical_crossentropy: 7.3151 - categorical_accuracy: 0.0127 - top_5_accuracy: 0.0622 - val_loss: 9.3375 - val_categorical_crossentropy: 9.3375 - val_categorical_accuracy: 0.0102 - val_top_5_accuracy: 0.1045\n",
      "Epoch 10/50\n",
      "14127/14127 [==============================] - 78s 6ms/step - loss: 7.2344 - categorical_crossentropy: 7.2344 - categorical_accuracy: 0.0134 - top_5_accuracy: 0.0634 - val_loss: 8.9232 - val_categorical_crossentropy: 8.9232 - val_categorical_accuracy: 0.0140 - val_top_5_accuracy: 0.0592\n",
      "Epoch 11/50\n",
      "14127/14127 [==============================] - 78s 6ms/step - loss: 7.2281 - categorical_crossentropy: 7.2281 - categorical_accuracy: 0.0132 - top_5_accuracy: 0.0634 - val_loss: 8.9214 - val_categorical_crossentropy: 8.9214 - val_categorical_accuracy: 0.0153 - val_top_5_accuracy: 0.0580\n",
      "Epoch 12/50\n",
      "14127/14127 [==============================] - 78s 6ms/step - loss: 7.2171 - categorical_crossentropy: 7.2171 - categorical_accuracy: 0.0127 - top_5_accuracy: 0.0662 - val_loss: 8.9179 - val_categorical_crossentropy: 8.9179 - val_categorical_accuracy: 0.0153 - val_top_5_accuracy: 0.0567\n",
      "Epoch 13/50\n",
      "14127/14127 [==============================] - 78s 6ms/step - loss: 7.2055 - categorical_crossentropy: 7.2055 - categorical_accuracy: 0.0133 - top_5_accuracy: 0.0647 - val_loss: 8.9218 - val_categorical_crossentropy: 8.9218 - val_categorical_accuracy: 0.0159 - val_top_5_accuracy: 0.0567\n",
      "Epoch 14/50\n",
      "14127/14127 [==============================] - 78s 6ms/step - loss: 7.2068 - categorical_crossentropy: 7.2068 - categorical_accuracy: 0.0134 - top_5_accuracy: 0.0660 - val_loss: 8.9193 - val_categorical_crossentropy: 8.9193 - val_categorical_accuracy: 0.0159 - val_top_5_accuracy: 0.0573\n",
      "Epoch 15/50\n",
      "14127/14127 [==============================] - 78s 6ms/step - loss: 7.2033 - categorical_crossentropy: 7.2033 - categorical_accuracy: 0.0133 - top_5_accuracy: 0.0655 - val_loss: 8.9216 - val_categorical_crossentropy: 8.9216 - val_categorical_accuracy: 0.0159 - val_top_5_accuracy: 0.0580\n",
      "Epoch 16/50\n",
      "14127/14127 [==============================] - 78s 6ms/step - loss: 7.1973 - categorical_crossentropy: 7.1973 - categorical_accuracy: 0.0136 - top_5_accuracy: 0.0645 - val_loss: 8.9204 - val_categorical_crossentropy: 8.9204 - val_categorical_accuracy: 0.0166 - val_top_5_accuracy: 0.0573\n",
      "Epoch 17/50\n",
      "14127/14127 [==============================] - 78s 6ms/step - loss: 7.2035 - categorical_crossentropy: 7.2035 - categorical_accuracy: 0.0136 - top_5_accuracy: 0.0637 - val_loss: 8.9216 - val_categorical_crossentropy: 8.9216 - val_categorical_accuracy: 0.0159 - val_top_5_accuracy: 0.0567\n",
      "Epoch 18/50\n",
      "14127/14127 [==============================] - 78s 6ms/step - loss: 7.2037 - categorical_crossentropy: 7.2037 - categorical_accuracy: 0.0134 - top_5_accuracy: 0.0655 - val_loss: 8.9198 - val_categorical_crossentropy: 8.9198 - val_categorical_accuracy: 0.0159 - val_top_5_accuracy: 0.0567\n",
      "Epoch 19/50\n",
      "14127/14127 [==============================] - 78s 6ms/step - loss: 7.2050 - categorical_crossentropy: 7.2050 - categorical_accuracy: 0.0142 - top_5_accuracy: 0.0649 - val_loss: 8.9279 - val_categorical_crossentropy: 8.9279 - val_categorical_accuracy: 0.0153 - val_top_5_accuracy: 0.0580\n",
      "Epoch 20/50\n",
      "14127/14127 [==============================] - 78s 6ms/step - loss: 7.2002 - categorical_crossentropy: 7.2002 - categorical_accuracy: 0.0136 - top_5_accuracy: 0.0655 - val_loss: 8.9233 - val_categorical_crossentropy: 8.9233 - val_categorical_accuracy: 0.0159 - val_top_5_accuracy: 0.0580\n",
      "Epoch 21/50\n",
      "14127/14127 [==============================] - 78s 6ms/step - loss: 7.1984 - categorical_crossentropy: 7.1984 - categorical_accuracy: 0.0137 - top_5_accuracy: 0.0646 - val_loss: 8.9262 - val_categorical_crossentropy: 8.9262 - val_categorical_accuracy: 0.0153 - val_top_5_accuracy: 0.0580\n",
      "Epoch 22/50\n",
      "14127/14127 [==============================] - 78s 6ms/step - loss: 7.1998 - categorical_crossentropy: 7.1998 - categorical_accuracy: 0.0133 - top_5_accuracy: 0.0645 - val_loss: 8.9220 - val_categorical_crossentropy: 8.9220 - val_categorical_accuracy: 0.0159 - val_top_5_accuracy: 0.0561\n",
      "Epoch 23/50\n",
      "14127/14127 [==============================] - 78s 6ms/step - loss: 7.1978 - categorical_crossentropy: 7.1978 - categorical_accuracy: 0.0132 - top_5_accuracy: 0.0650 - val_loss: 8.9244 - val_categorical_crossentropy: 8.9244 - val_categorical_accuracy: 0.0159 - val_top_5_accuracy: 0.0580\n",
      "Epoch 24/50\n",
      "14127/14127 [==============================] - 78s 6ms/step - loss: 7.2111 - categorical_crossentropy: 7.2111 - categorical_accuracy: 0.0138 - top_5_accuracy: 0.0656 - val_loss: 8.9186 - val_categorical_crossentropy: 8.9186 - val_categorical_accuracy: 0.0159 - val_top_5_accuracy: 0.0567\n",
      "Epoch 25/50\n",
      "14127/14127 [==============================] - 78s 6ms/step - loss: 7.1996 - categorical_crossentropy: 7.1996 - categorical_accuracy: 0.0137 - top_5_accuracy: 0.0653 - val_loss: 8.9346 - val_categorical_crossentropy: 8.9346 - val_categorical_accuracy: 0.0159 - val_top_5_accuracy: 0.0586\n",
      "Epoch 26/50\n",
      "14127/14127 [==============================] - 78s 6ms/step - loss: 7.1949 - categorical_crossentropy: 7.1949 - categorical_accuracy: 0.0139 - top_5_accuracy: 0.0655 - val_loss: 8.9306 - val_categorical_crossentropy: 8.9306 - val_categorical_accuracy: 0.0153 - val_top_5_accuracy: 0.0580\n",
      "Epoch 27/50\n"
     ]
    },
    {
     "name": "stdout",
     "output_type": "stream",
     "text": [
      "14127/14127 [==============================] - 78s 6ms/step - loss: 7.1959 - categorical_crossentropy: 7.1959 - categorical_accuracy: 0.0140 - top_5_accuracy: 0.0643 - val_loss: 8.9272 - val_categorical_crossentropy: 8.9272 - val_categorical_accuracy: 0.0159 - val_top_5_accuracy: 0.0573\n",
      "Epoch 28/50\n",
      "14127/14127 [==============================] - 78s 6ms/step - loss: 7.2082 - categorical_crossentropy: 7.2082 - categorical_accuracy: 0.0127 - top_5_accuracy: 0.0642 - val_loss: 8.9243 - val_categorical_crossentropy: 8.9243 - val_categorical_accuracy: 0.0159 - val_top_5_accuracy: 0.0567\n",
      "Epoch 29/50\n",
      "14127/14127 [==============================] - 78s 6ms/step - loss: 7.2046 - categorical_crossentropy: 7.2046 - categorical_accuracy: 0.0142 - top_5_accuracy: 0.0658 - val_loss: 8.9258 - val_categorical_crossentropy: 8.9258 - val_categorical_accuracy: 0.0159 - val_top_5_accuracy: 0.0580\n",
      "Epoch 30/50\n",
      "14127/14127 [==============================] - 78s 6ms/step - loss: 7.1987 - categorical_crossentropy: 7.1987 - categorical_accuracy: 0.0139 - top_5_accuracy: 0.0654 - val_loss: 8.9258 - val_categorical_crossentropy: 8.9258 - val_categorical_accuracy: 0.0159 - val_top_5_accuracy: 0.0580\n",
      "Epoch 31/50\n",
      "14127/14127 [==============================] - 78s 6ms/step - loss: 7.2071 - categorical_crossentropy: 7.2071 - categorical_accuracy: 0.0134 - top_5_accuracy: 0.0653 - val_loss: 8.9140 - val_categorical_crossentropy: 8.9140 - val_categorical_accuracy: 0.0159 - val_top_5_accuracy: 0.0561\n",
      "Epoch 32/50\n",
      "14127/14127 [==============================] - 78s 6ms/step - loss: 7.1981 - categorical_crossentropy: 7.1981 - categorical_accuracy: 0.0131 - top_5_accuracy: 0.0654 - val_loss: 8.9269 - val_categorical_crossentropy: 8.9269 - val_categorical_accuracy: 0.0153 - val_top_5_accuracy: 0.0580\n",
      "Epoch 33/50\n",
      "14127/14127 [==============================] - 78s 6ms/step - loss: 7.2001 - categorical_crossentropy: 7.2001 - categorical_accuracy: 0.0143 - top_5_accuracy: 0.0650 - val_loss: 8.9271 - val_categorical_crossentropy: 8.9271 - val_categorical_accuracy: 0.0159 - val_top_5_accuracy: 0.0573\n",
      "Epoch 34/50\n",
      "14127/14127 [==============================] - 78s 6ms/step - loss: 7.2007 - categorical_crossentropy: 7.2007 - categorical_accuracy: 0.0144 - top_5_accuracy: 0.0651 - val_loss: 8.9278 - val_categorical_crossentropy: 8.9278 - val_categorical_accuracy: 0.0159 - val_top_5_accuracy: 0.0580\n",
      "Epoch 35/50\n",
      "14127/14127 [==============================] - 78s 6ms/step - loss: 7.2032 - categorical_crossentropy: 7.2032 - categorical_accuracy: 0.0143 - top_5_accuracy: 0.0653 - val_loss: 8.9267 - val_categorical_crossentropy: 8.9267 - val_categorical_accuracy: 0.0153 - val_top_5_accuracy: 0.0580\n",
      "Epoch 36/50\n",
      "14127/14127 [==============================] - 78s 6ms/step - loss: 7.1995 - categorical_crossentropy: 7.1995 - categorical_accuracy: 0.0134 - top_5_accuracy: 0.0646 - val_loss: 8.9250 - val_categorical_crossentropy: 8.9250 - val_categorical_accuracy: 0.0159 - val_top_5_accuracy: 0.0580\n",
      "Epoch 37/50\n",
      "14127/14127 [==============================] - 78s 6ms/step - loss: 7.2021 - categorical_crossentropy: 7.2021 - categorical_accuracy: 0.0142 - top_5_accuracy: 0.0645 - val_loss: 8.9237 - val_categorical_crossentropy: 8.9237 - val_categorical_accuracy: 0.0159 - val_top_5_accuracy: 0.0567\n",
      "Epoch 38/50\n",
      "14127/14127 [==============================] - 78s 6ms/step - loss: 7.2126 - categorical_crossentropy: 7.2126 - categorical_accuracy: 0.0133 - top_5_accuracy: 0.0658 - val_loss: 8.9102 - val_categorical_crossentropy: 8.9102 - val_categorical_accuracy: 0.0159 - val_top_5_accuracy: 0.0561\n",
      "Epoch 39/50\n",
      "14127/14127 [==============================] - 78s 6ms/step - loss: 7.2011 - categorical_crossentropy: 7.2011 - categorical_accuracy: 0.0136 - top_5_accuracy: 0.0657 - val_loss: 8.9236 - val_categorical_crossentropy: 8.9236 - val_categorical_accuracy: 0.0159 - val_top_5_accuracy: 0.0580\n",
      "Epoch 40/50\n",
      "14127/14127 [==============================] - 78s 6ms/step - loss: 7.1920 - categorical_crossentropy: 7.1920 - categorical_accuracy: 0.0136 - top_5_accuracy: 0.0653 - val_loss: 8.9221 - val_categorical_crossentropy: 8.9221 - val_categorical_accuracy: 0.0159 - val_top_5_accuracy: 0.0573\n",
      "Epoch 41/50\n",
      "14127/14127 [==============================] - 78s 6ms/step - loss: 7.2005 - categorical_crossentropy: 7.2005 - categorical_accuracy: 0.0137 - top_5_accuracy: 0.0653 - val_loss: 8.9248 - val_categorical_crossentropy: 8.9248 - val_categorical_accuracy: 0.0159 - val_top_5_accuracy: 0.0580\n",
      "Epoch 42/50\n",
      "14127/14127 [==============================] - 78s 6ms/step - loss: 7.2011 - categorical_crossentropy: 7.2011 - categorical_accuracy: 0.0142 - top_5_accuracy: 0.0659 - val_loss: 8.9271 - val_categorical_crossentropy: 8.9271 - val_categorical_accuracy: 0.0159 - val_top_5_accuracy: 0.0580\n",
      "Epoch 43/50\n",
      "14127/14127 [==============================] - 78s 6ms/step - loss: 7.1992 - categorical_crossentropy: 7.1992 - categorical_accuracy: 0.0137 - top_5_accuracy: 0.0650 - val_loss: 8.9222 - val_categorical_crossentropy: 8.9222 - val_categorical_accuracy: 0.0159 - val_top_5_accuracy: 0.0573\n",
      "Epoch 44/50\n",
      "14127/14127 [==============================] - 78s 6ms/step - loss: 7.2052 - categorical_crossentropy: 7.2052 - categorical_accuracy: 0.0137 - top_5_accuracy: 0.0663 - val_loss: 8.9165 - val_categorical_crossentropy: 8.9165 - val_categorical_accuracy: 0.0159 - val_top_5_accuracy: 0.0561\n",
      "Epoch 45/50\n",
      "14127/14127 [==============================] - 78s 6ms/step - loss: 7.1975 - categorical_crossentropy: 7.1975 - categorical_accuracy: 0.0132 - top_5_accuracy: 0.0652 - val_loss: 8.9258 - val_categorical_crossentropy: 8.9258 - val_categorical_accuracy: 0.0153 - val_top_5_accuracy: 0.0580\n",
      "Epoch 46/50\n",
      "14127/14127 [==============================] - 78s 6ms/step - loss: 7.1981 - categorical_crossentropy: 7.1981 - categorical_accuracy: 0.0134 - top_5_accuracy: 0.0650 - val_loss: 8.9236 - val_categorical_crossentropy: 8.9236 - val_categorical_accuracy: 0.0153 - val_top_5_accuracy: 0.0567\n",
      "Epoch 47/50\n",
      "14127/14127 [==============================] - 78s 6ms/step - loss: 7.1998 - categorical_crossentropy: 7.1998 - categorical_accuracy: 0.0134 - top_5_accuracy: 0.0642 - val_loss: 8.9416 - val_categorical_crossentropy: 8.9416 - val_categorical_accuracy: 0.0159 - val_top_5_accuracy: 0.0592\n",
      "Epoch 48/50\n",
      "14127/14127 [==============================] - 78s 6ms/step - loss: 7.1990 - categorical_crossentropy: 7.1990 - categorical_accuracy: 0.0130 - top_5_accuracy: 0.0643 - val_loss: 8.9207 - val_categorical_crossentropy: 8.9207 - val_categorical_accuracy: 0.0159 - val_top_5_accuracy: 0.0567\n",
      "Epoch 49/50\n",
      "14127/14127 [==============================] - 78s 6ms/step - loss: 7.2009 - categorical_crossentropy: 7.2009 - categorical_accuracy: 0.0142 - top_5_accuracy: 0.0646 - val_loss: 8.9156 - val_categorical_crossentropy: 8.9156 - val_categorical_accuracy: 0.0159 - val_top_5_accuracy: 0.0561\n",
      "Epoch 50/50\n",
      "14127/14127 [==============================] - 78s 6ms/step - loss: 7.2052 - categorical_crossentropy: 7.2052 - categorical_accuracy: 0.0135 - top_5_accuracy: 0.0660 - val_loss: 8.9265 - val_categorical_crossentropy: 8.9265 - val_categorical_accuracy: 0.0153 - val_top_5_accuracy: 0.0580\n"
     ]
    }
   ],
   "source": [
    "history = model.fit(X, y, epochs=50, batch_size=50, verbose=1, validation_split=0.1, callbacks=callback)"
   ]
  },
  {
   "cell_type": "code",
   "execution_count": 19,
   "metadata": {
    "_uuid": "7bca48a1d0963cbf70685b75431435cef9499895"
   },
   "outputs": [
    {
     "data": {
      "image/png": "[encoded data removed]",
      "text/plain": [
       "<Figure size 432x288 with 1 Axes>"
      ]
     },
     "metadata": {},
     "output_type": "display_data"
    }
   ],
   "source": [
    "plt.plot(history.history['top_5_accuracy'])\n",
    "# plt.plot(history.history['acc'])\n",
    "plt.title('Top 5 accuracy of the model')\n",
    "plt.ylabel('Top 5 Accuracy')\n",
    "plt.xlabel('Epoch')\n",
    "plt.show()"
   ]
  },
  {
   "cell_type": "code",
   "execution_count": 20,
   "metadata": {},
   "outputs": [
    {
     "data": {
      "image/png": "[encoded data removed]",
      "text/plain": [
       "<Figure size 432x288 with 1 Axes>"
      ]
     },
     "metadata": {},
     "output_type": "display_data"
    }
   ],
   "source": [
    "plt.plot(history.history['val_top_5_accuracy'])\n",
    "plt.title('Model val_top_5_accuracy')\n",
    "plt.ylabel('val_top_5_accuracy')\n",
    "plt.xlabel('Epoch')\n",
    "plt.show()"
   ]
  },
  {
   "cell_type": "code",
   "execution_count": 21,
   "metadata": {},
   "outputs": [
    {
     "name": "stdout",
     "output_type": "stream",
     "text": [
      "Preparing images\n",
      "Processing image:  1 ,  0000e88ab.jpg\n",
      "Processing image:  501 ,  04c72257b.jpg\n",
      "Processing image:  1001 ,  09cacb84d.jpg\n",
      "Processing image:  1501 ,  0ef961892.jpg\n",
      "Processing image:  2001 ,  141b56a1a.jpg\n",
      "Processing image:  2501 ,  199a417aa.jpg\n",
      "Processing image:  3001 ,  1ec170983.jpg\n",
      "Processing image:  3501 ,  23f084b93.jpg\n",
      "Processing image:  4001 ,  29163ad0b.jpg\n",
      "Processing image:  4501 ,  2e0fab120.jpg\n",
      "Processing image:  5001 ,  3347515d9.jpg\n",
      "Processing image:  5501 ,  3842d71dc.jpg\n",
      "Processing image:  6001 ,  3d7f4c7d5.jpg\n",
      "Processing image:  6501 ,  425f763ca.jpg\n",
      "Processing image:  7001 ,  4714400cd.jpg\n",
      "Processing image:  7501 ,  4c082fbdf.jpg\n",
      "Processing image:  8001 ,  50c683e23.jpg\n",
      "Processing image:  8501 ,  560d986ad.jpg\n",
      "Processing image:  9001 ,  5b68c83ed.jpg\n",
      "Processing image:  9501 ,  60410f111.jpg\n",
      "Processing image:  10001 ,  654951f81.jpg\n",
      "Processing image:  10501 ,  6a572256c.jpg\n",
      "Processing image:  11001 ,  6f96f55b6.jpg\n",
      "Processing image:  11501 ,  74da2b511.jpg\n",
      "Processing image:  12001 ,  7989d9a27.jpg\n",
      "Processing image:  12501 ,  7e5aa2d8a.jpg\n",
      "Processing image:  13001 ,  832382cfb.jpg\n",
      "Processing image:  13501 ,  87f6c0a15.jpg\n",
      "Processing image:  14001 ,  8cfc22e5d.jpg\n",
      "Processing image:  14501 ,  91dcfedcd.jpg\n",
      "Processing image:  15001 ,  97079398e.jpg\n",
      "Processing image:  15501 ,  9c2ad64a9.jpg\n",
      "Processing image:  16001 ,  a11956dff.jpg\n",
      "Processing image:  16501 ,  a5f9ffe86.jpg\n",
      "Processing image:  17001 ,  aaf1a967b.jpg\n",
      "Processing image:  17501 ,  af9a1ffc6.jpg\n",
      "Processing image:  18001 ,  b4e02531d.jpg\n",
      "Processing image:  18501 ,  ba2355ca6.jpg\n",
      "Processing image:  19001 ,  bf60e7fed.jpg\n",
      "Processing image:  19501 ,  c49f39ce3.jpg\n",
      "Processing image:  20001 ,  c960111d0.jpg\n",
      "Processing image:  20501 ,  ce7984d8a.jpg\n",
      "Processing image:  21001 ,  d38efaec9.jpg\n",
      "Processing image:  21501 ,  d831d28ee.jpg\n",
      "Processing image:  22001 ,  dd3ca2387.jpg\n",
      "Processing image:  22501 ,  e288d66cf.jpg\n",
      "Processing image:  23001 ,  e7cc793db.jpg\n",
      "Processing image:  23501 ,  ec8c7229d.jpg\n",
      "Processing image:  24001 ,  f1b850552.jpg\n",
      "Processing image:  24501 ,  f6af8a4b8.jpg\n",
      "Processing image:  25001 ,  fc09f2302.jpg\n"
     ]
    }
   ],
   "source": [
    "# Now an optimal threshold for the new_whale label will be determined.\n",
    "# First the entire training set (includeing new_whales) will be imported\n",
    "train_df = pd.read_csv(\"data/train.csv\")\n",
    "X = prepareImages(train_df, train_df.shape[0], \"train\")\n",
    "X /= 255\n",
    "y = train_df['Id']"
   ]
  },
  {
   "cell_type": "code",
   "execution_count": 23,
   "metadata": {},
   "outputs": [
    {
     "data": {
      "text/plain": [
       "0"
      ]
     },
     "execution_count": 23,
     "metadata": {},
     "output_type": "execute_result"
    }
   ],
   "source": [
    "import gc\n",
    "gc.collect()"
   ]
  },
  {
   "cell_type": "code",
   "execution_count": 24,
   "metadata": {},
   "outputs": [
    {
     "name": "stdout",
     "output_type": "stream",
     "text": [
      "25361/25361 [==============================] - 28s 1ms/step\n",
      "Threshold = 0.100, MAP5 = 0.391\n",
      "Threshold = 0.110, MAP5 = 0.391\n",
      "Threshold = 0.120, MAP5 = 0.391\n",
      "Threshold = 0.130, MAP5 = 0.391\n",
      "Threshold = 0.140, MAP5 = 0.391\n",
      "Threshold = 0.150, MAP5 = 0.391\n",
      "Threshold = 0.160, MAP5 = 0.391\n",
      "Threshold = 0.170, MAP5 = 0.391\n",
      "Threshold = 0.180, MAP5 = 0.391\n",
      "Threshold = 0.190, MAP5 = 0.391\n",
      "Threshold = 0.200, MAP5 = 0.391\n",
      "Threshold = 0.210, MAP5 = 0.391\n",
      "Threshold = 0.220, MAP5 = 0.391\n",
      "Threshold = 0.230, MAP5 = 0.391\n",
      "Threshold = 0.240, MAP5 = 0.391\n",
      "Threshold = 0.250, MAP5 = 0.391\n",
      "Threshold = 0.260, MAP5 = 0.391\n",
      "Threshold = 0.270, MAP5 = 0.391\n",
      "Threshold = 0.280, MAP5 = 0.391\n",
      "Threshold = 0.290, MAP5 = 0.391\n",
      "Threshold = 0.300, MAP5 = 0.391\n",
      "Threshold = 0.310, MAP5 = 0.391\n",
      "Threshold = 0.320, MAP5 = 0.391\n",
      "Threshold = 0.330, MAP5 = 0.391\n",
      "Threshold = 0.340, MAP5 = 0.391\n",
      "Threshold = 0.350, MAP5 = 0.391\n",
      "Threshold = 0.360, MAP5 = 0.391\n",
      "Threshold = 0.370, MAP5 = 0.391\n",
      "Threshold = 0.380, MAP5 = 0.391\n",
      "Threshold = 0.390, MAP5 = 0.391\n",
      "Threshold = 0.400, MAP5 = 0.391\n",
      "Threshold = 0.410, MAP5 = 0.391\n",
      "Threshold = 0.420, MAP5 = 0.391\n",
      "Threshold = 0.430, MAP5 = 0.391\n",
      "Threshold = 0.440, MAP5 = 0.391\n",
      "Threshold = 0.450, MAP5 = 0.391\n",
      "Threshold = 0.460, MAP5 = 0.391\n",
      "Threshold = 0.470, MAP5 = 0.391\n",
      "Threshold = 0.480, MAP5 = 0.391\n",
      "Threshold = 0.490, MAP5 = 0.391\n",
      "Threshold = 0.500, MAP5 = 0.391\n",
      "Threshold = 0.510, MAP5 = 0.391\n",
      "Threshold = 0.520, MAP5 = 0.391\n",
      "Threshold = 0.530, MAP5 = 0.391\n",
      "Threshold = 0.540, MAP5 = 0.391\n",
      "Threshold = 0.550, MAP5 = 0.391\n",
      "Threshold = 0.560, MAP5 = 0.391\n",
      "Threshold = 0.570, MAP5 = 0.391\n",
      "Threshold = 0.580, MAP5 = 0.391\n",
      "Threshold = 0.590, MAP5 = 0.391\n",
      "Threshold = 0.600, MAP5 = 0.391\n",
      "Threshold = 0.610, MAP5 = 0.391\n",
      "Threshold = 0.620, MAP5 = 0.391\n",
      "Threshold = 0.630, MAP5 = 0.391\n",
      "Threshold = 0.640, MAP5 = 0.391\n",
      "Threshold = 0.650, MAP5 = 0.391\n",
      "Threshold = 0.660, MAP5 = 0.391\n",
      "Threshold = 0.670, MAP5 = 0.391\n",
      "Threshold = 0.680, MAP5 = 0.391\n",
      "Threshold = 0.690, MAP5 = 0.391\n",
      "Threshold = 0.700, MAP5 = 0.391\n",
      "Threshold = 0.710, MAP5 = 0.391\n",
      "Threshold = 0.720, MAP5 = 0.391\n",
      "Threshold = 0.730, MAP5 = 0.391\n",
      "Threshold = 0.740, MAP5 = 0.391\n",
      "Threshold = 0.750, MAP5 = 0.391\n",
      "Threshold = 0.760, MAP5 = 0.391\n",
      "Threshold = 0.770, MAP5 = 0.391\n",
      "Threshold = 0.780, MAP5 = 0.391\n",
      "Threshold = 0.790, MAP5 = 0.391\n",
      "Threshold = 0.800, MAP5 = 0.391\n",
      "Threshold = 0.810, MAP5 = 0.391\n",
      "Threshold = 0.820, MAP5 = 0.391\n",
      "Threshold = 0.830, MAP5 = 0.391\n",
      "Threshold = 0.840, MAP5 = 0.391\n",
      "Threshold = 0.850, MAP5 = 0.391\n",
      "Threshold = 0.860, MAP5 = 0.391\n",
      "Threshold = 0.870, MAP5 = 0.391\n",
      "Threshold = 0.880, MAP5 = 0.391\n",
      "Threshold = 0.890, MAP5 = 0.391\n",
      "Threshold = 0.900, MAP5 = 0.391\n"
     ]
    }
   ],
   "source": [
    "# the map5 function will be used to evaluate the predictions\n",
    "def map5(X, y):\n",
    "    score = 0\n",
    "    for i in range(X.shape[0]):\n",
    "        pred = X[i]\n",
    "        lp = label_encoder.inverse_transform(pred.argsort()[-5:][::-1])\n",
    "        p2 = pred[:]\n",
    "        ind = pred.argsort()[-5:][::-1]\n",
    "        s = sum(p2[ind] < th)\n",
    "        if s != 0:\n",
    "            for j in range(lp.size):\n",
    "                if p2[ind[j]] < th:\n",
    "                    k = j\n",
    "                    lp[k] = 'new_whale'\n",
    "                    break\n",
    "# the below line is commented to avoid the error \"UnboundLocalError: local variable 'k' referenced before assignment\"\n",
    "#            lp[k] = 'new_whale'\n",
    "        #pred = X[i].argsort()[-5:][::-1]\n",
    "        for j in range(lp.size):\n",
    "            if lp[j] == y[i]:\n",
    "                score += (5 - j)/5\n",
    "                break\n",
    "    return score/X.shape[0]\n",
    "\n",
    "# now the optimal threshold will be determined by calculating the map5 score for each threshold value.\n",
    "predictions = model.predict(np.array(X), verbose=1, batch_size=50)\n",
    "best_th = 0\n",
    "best_score = 0\n",
    "for th in np.arange(0.1, 0.91, 0.01):\n",
    "    #predictions[:,0] = th\n",
    "    score = map5(predictions, y)\n",
    "    if score > best_score:\n",
    "        best_score = score\n",
    "        best_th = th\n",
    "    print(\"Threshold = {:.3f}, MAP5 = {:.3f}\".format(th,score))"
   ]
  },
  {
   "cell_type": "code",
   "execution_count": 25,
   "metadata": {
    "_uuid": "debe961c93b72bef151d9aad3ca2cb500ee00aaa"
   },
   "outputs": [
    {
     "name": "stdout",
     "output_type": "stream",
     "text": [
      "7960\n"
     ]
    }
   ],
   "source": [
    "test = os.listdir(\"data/test/\")\n",
    "print(len(test))"
   ]
  },
  {
   "cell_type": "code",
   "execution_count": 26,
   "metadata": {
    "_uuid": "72ed8198f519f7b1ae3efbc688933c78d8cdd0e4"
   },
   "outputs": [],
   "source": [
    "col = ['Image']\n",
    "test_df = pd.DataFrame(test, columns=col)\n",
    "test_df['Id'] = ''"
   ]
  },
  {
   "cell_type": "code",
   "execution_count": 28,
   "metadata": {},
   "outputs": [
    {
     "data": {
      "text/plain": [
       "0"
      ]
     },
     "execution_count": 28,
     "metadata": {},
     "output_type": "execute_result"
    }
   ],
   "source": [
    "gc.collect()"
   ]
  },
  {
   "cell_type": "code",
   "execution_count": 29,
   "metadata": {
    "_uuid": "52262195fc0b8755cff78bf8c98e6116d50f79af"
   },
   "outputs": [
    {
     "name": "stdout",
     "output_type": "stream",
     "text": [
      "Preparing images\n",
      "Processing image:  1 ,  bfd521ee0.jpg\n",
      "Processing image:  501 ,  f124e20f9.jpg\n",
      "Processing image:  1001 ,  7fd675d90.jpg\n",
      "Processing image:  1501 ,  f15cc97a7.jpg\n",
      "Processing image:  2001 ,  b0ced16b2.jpg\n",
      "Processing image:  2501 ,  5b8f3af0a.jpg\n",
      "Processing image:  3001 ,  00ccb53ec.jpg\n",
      "Processing image:  3501 ,  378f63826.jpg\n",
      "Processing image:  4001 ,  a8e72eb20.jpg\n",
      "Processing image:  4501 ,  599fb6ecf.jpg\n",
      "Processing image:  5001 ,  292b2b27d.jpg\n",
      "Processing image:  5501 ,  2aeee8b9f.jpg\n",
      "Processing image:  6001 ,  ea046b98d.jpg\n",
      "Processing image:  6501 ,  43e35c1b6.jpg\n",
      "Processing image:  7001 ,  e67b3fc69.jpg\n",
      "Processing image:  7501 ,  bc605917b.jpg\n"
     ]
    }
   ],
   "source": [
    "X = prepareImages(test_df, test_df.shape[0], \"test\")\n",
    "X /= 255"
   ]
  },
  {
   "cell_type": "code",
   "execution_count": 30,
   "metadata": {
    "_uuid": "88c8d8ff98fbdb1df4218abb6bd51889e855a6fb"
   },
   "outputs": [
    {
     "name": "stdout",
     "output_type": "stream",
     "text": [
      "7960/7960 [==============================] - 9s 1ms/step\n"
     ]
    }
   ],
   "source": [
    "predictions = model.predict(np.array(X), verbose=1, batch_size=50)"
   ]
  },
  {
   "cell_type": "code",
   "execution_count": 31,
   "metadata": {},
   "outputs": [],
   "source": [
    "for i, pred in enumerate(predictions):\n",
    "    lp = label_encoder.inverse_transform(pred.argsort()[-5:][::-1])\n",
    "    p2 = pred[:]\n",
    "    ind = pred.argsort()[-5:][::-1]\n",
    "    s = sum(p2[ind] < best_th)\n",
    "    if s != 0:\n",
    "        for j in range(lp.size):\n",
    "            if p2[ind[j]] < best_th:\n",
    "                k = j\n",
    "                lp[k] = 'new_whale'\n",
    "                break\n",
    "#        lp[k] = 'new_whale'\n",
    "    test_df.loc[i, 'Id'] = ' '.join(lp)"
   ]
  },
  {
   "cell_type": "code",
   "execution_count": 24,
   "metadata": {
    "_uuid": "66f0bdde31b8c7847916268aa82d9a1bdc9c0658"
   },
   "outputs": [],
   "source": [
    "#for i, pred in enumerate(predictions):\n",
    "#    test_df.loc[i, 'Id'] = ' '.join(label_encoder.inverse_transform(pred.argsort()[-5:][::-1]))"
   ]
  },
  {
   "cell_type": "code",
   "execution_count": 32,
   "metadata": {
    "_uuid": "09d7c1eb9b554e4e580b0c3c7eb609c15636892d"
   },
   "outputs": [
    {
     "name": "stdout",
     "output_type": "stream",
     "text": [
      "           Image                                                 Id\n",
      "0  bfd521ee0.jpg  new_whale w_564a34b w_88e4537 w_990921b w_9c506f6\n",
      "1  02b063a20.jpg  new_whale w_d405854 w_9b5109b w_700ebb4 w_f0fe284\n",
      "2  48dc51d2a.jpg  new_whale w_9b5109b w_23a388d w_a9304b9 w_d72771c\n",
      "3  f553318b3.jpg  new_whale w_d405854 w_6e97ef4 w_2b069ba w_59052ad\n",
      "4  1546729ec.jpg  new_whale w_f0fe284 w_d405854 w_0fdf741 w_789c969\n",
      "5  8cc48ab02.jpg  new_whale w_564a34b w_9c506f6 w_88e4537 w_fd3e556\n",
      "6  de74478c6.jpg  new_whale w_789c969 w_700ebb4 w_343f088 w_23a388d\n",
      "7  211d8987b.jpg  new_whale w_700ebb4 w_343f088 w_0369a5c w_789c969\n",
      "8  b0675b37a.jpg  new_whale w_a9304b9 w_700ebb4 w_343f088 w_9b5109b\n",
      "9  8c10e784e.jpg  new_whale w_789c969 w_700ebb4 w_f0fe284 w_3de579a\n"
     ]
    }
   ],
   "source": [
    "print(test_df.head(10))\n",
    "test_df.to_csv('submission.csv', index=False)"
   ]
  },
  {
   "cell_type": "code",
   "execution_count": null,
   "metadata": {},
   "outputs": [],
   "source": []
  }
 ],
 "metadata": {
  "kernelspec": {
   "display_name": "Python 3",
   "language": "python",
   "name": "python3"
  },
  "language_info": {
   "codemirror_mode": {
    "name": "ipython",
    "version": 3
   },
   "file_extension": ".py",
   "mimetype": "text/x-python",
   "name": "python",
   "nbconvert_exporter": "python",
   "pygments_lexer": "ipython3",
   "version": "3.5.3"
  }
 },
 "nbformat": 4,
 "nbformat_minor": 1
}
